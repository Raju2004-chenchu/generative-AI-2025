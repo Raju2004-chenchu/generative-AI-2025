{
  "nbformat": 4,
  "nbformat_minor": 0,
  "metadata": {
    "colab": {
      "provenance": [],
      "include_colab_link": true
    },
    "kernelspec": {
      "name": "python3",
      "display_name": "Python 3"
    },
    "language_info": {
      "name": "python"
    }
  },
  "cells": [
    {
      "cell_type": "markdown",
      "metadata": {
        "id": "view-in-github",
        "colab_type": "text"
      },
      "source": [
        "<a href=\"https://colab.research.google.com/github/Raju2004-chenchu/generative-AI-2025/blob/main/2303A52206_GenAI_Assignment_2.ipynb\" target=\"_parent\"><img src=\"https://colab.research.google.com/assets/colab-badge.svg\" alt=\"Open In Colab\"/></a>"
      ]
    },
    {
      "cell_type": "code",
      "execution_count": 1,
      "metadata": {
        "colab": {
          "base_uri": "https://localhost:8080/"
        },
        "id": "e2OM-mtoMhHt",
        "outputId": "1f17e350-4acc-4b43-b85d-19302df709c8"
      },
      "outputs": [
        {
          "output_type": "stream",
          "name": "stdout",
          "text": [
            "Optimal number of A: 2.00\n",
            "Optimal number of B: 3.00\n",
            "Maximum profit: Rs 27.00\n"
          ]
        }
      ],
      "source": [
        "#Queation :- 1\n",
        "from scipy.optimize import linprog\n",
        "c = [-6, -5]\n",
        "A = [\n",
        "    [1, 1],\n",
        "    [3, 2]\n",
        "]\n",
        "b = [5, 12]\n",
        "x_bounds = (0, None)\n",
        "y_bounds = (0, None)\n",
        "result = linprog(c, A_ub=A, b_ub=b, bounds=[x_bounds, y_bounds], method='highs')\n",
        "if result.success:\n",
        "    x, y = result.x\n",
        "    max_profit = -result.fun\n",
        "    print(f\"Optimal number of A: {x:.2f}\")\n",
        "    print(f\"Optimal number of B: {y:.2f}\")\n",
        "    print(f\"Maximum profit: Rs {max_profit:.2f}\")\n",
        "else:\n",
        "    print(\"No solution found!\")"
      ]
    },
    {
      "cell_type": "code",
      "source": [
        "#Queation :- 2\n",
        "\n",
        "from scipy.optimize import linprog\n",
        "c = [-50, -120]\n",
        "A = [\n",
        "    [1, 1],\n",
        "    [7000, 2000],\n",
        "    [10, 30]\n",
        "]\n",
        "b = [110, 700000, 1200]\n",
        "x_bounds = (0, None)\n",
        "y_bounds = (0, None)\n",
        "result = linprog(c, A_ub=A, b_ub=b, bounds=[x_bounds, y_bounds], method='highs')\n",
        "if result.success:\n",
        "    x, y = result.x\n",
        "    max_profit = -result.fun\n",
        "    print(f\"Optimal hectares for Wheat: {x:.2f}\")\n",
        "    print(f\"Optimal hectares for Barley: {y:.2f}\")\n",
        "    print(f\"Maximum Profit: Rs {max_profit:.2f}\")\n",
        "else:\n",
        "    print(\"No solution found!\")"
      ],
      "metadata": {
        "colab": {
          "base_uri": "https://localhost:8080/"
        },
        "id": "DPp57WAJcj6x",
        "outputId": "5390b311-1acf-41f9-f40f-9b0c955a0781"
      },
      "execution_count": 2,
      "outputs": [
        {
          "output_type": "stream",
          "name": "stdout",
          "text": [
            "Optimal hectares for Wheat: 97.89\n",
            "Optimal hectares for Barley: 7.37\n",
            "Maximum Profit: Rs 5778.95\n"
          ]
        }
      ]
    }
  ]
}